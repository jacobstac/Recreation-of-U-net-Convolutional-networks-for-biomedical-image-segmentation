{
 "cells": [
  {
   "cell_type": "code",
   "execution_count": null,
   "metadata": {},
   "outputs": [],
   "source": [
    "def shape(X):\n",
    "    print(np.shape(X))\n",
    "\n",
    "    \n",
    "def r(n):\n",
    "    return np.reshape(n, (len(n), 1))\n",
    "\n",
    "\n",
    "def concat_path(a,b):\n",
    "    return a + b'/' + b\n",
    "\n",
    "\n",
    "def nearest_two_print(x, y, mat):\n",
    "    #print(len(mat[0]))\n",
    "    print(mat[x][y])\n",
    "    found = False\n",
    "    stop = False\n",
    "    rounds = 0\n",
    "    maxi = 5\n",
    "\n",
    "    left  = 1\n",
    "    up    = 1\n",
    "    right = 2\n",
    "    down  = 2\n",
    "        \n",
    "    while(not found and not stop):\n",
    "        rounds +=1\n",
    "        for i in range(left):\n",
    "            x-= 1\n",
    "            if(y >= 0 and y < len(mat[0]) and x >= 0 and x < len(mat)):\n",
    "                print(mat[x][y])\n",
    "        left +=2\n",
    "        \n",
    "        for i in range(up):\n",
    "            y-= 1\n",
    "            if(y >= 0 and y < len(mat[0]) and x >= 0 and x < len(mat)):\n",
    "                print(mat[x][y])\n",
    "        up +=2\n",
    "        \n",
    "        for i in range(right):\n",
    "            x+= 1\n",
    "            if(y >= 0 and y < len(mat[0]) and x >= 0 and x < len(mat)):\n",
    "                print(mat[x][y])\n",
    "        right +=2\n",
    "            \n",
    "        for i in range(down):\n",
    "            y+= 1\n",
    "\n",
    "            if(y >= 0 and y < len(mat[0]) and x >= 0 and x < len(mat)):\n",
    "                print(mat[x][y])\n",
    "        \n",
    "        down +=2\n",
    "        \n",
    "        if(rounds == maxi):\n",
    "            stop = True\n",
    "    "
   ]
  }
 ],
 "metadata": {
  "kernelspec": {
   "display_name": "Python 3",
   "language": "python",
   "name": "python3"
  },
  "language_info": {
   "codemirror_mode": {
    "name": "ipython",
    "version": 3
   },
   "file_extension": ".py",
   "mimetype": "text/x-python",
   "name": "python",
   "nbconvert_exporter": "python",
   "pygments_lexer": "ipython3",
   "version": "3.7.6"
  },
  "varInspector": {
   "cols": {
    "lenName": 16,
    "lenType": 16,
    "lenVar": 40
   },
   "kernels_config": {
    "python": {
     "delete_cmd_postfix": "",
     "delete_cmd_prefix": "del ",
     "library": "var_list.py",
     "varRefreshCmd": "print(var_dic_list())"
    },
    "r": {
     "delete_cmd_postfix": ") ",
     "delete_cmd_prefix": "rm(",
     "library": "var_list.r",
     "varRefreshCmd": "cat(var_dic_list()) "
    }
   },
   "types_to_exclude": [
    "module",
    "function",
    "builtin_function_or_method",
    "instance",
    "_Feature"
   ],
   "window_display": false
  }
 },
 "nbformat": 4,
 "nbformat_minor": 4
}
